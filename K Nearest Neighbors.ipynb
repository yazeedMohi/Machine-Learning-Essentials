{
 "cells": [
  {
   "cell_type": "code",
   "execution_count": null,
   "metadata": {},
   "outputs": [],
   "source": [
    "impot numpy as np\n",
    "from sklearn import preprocessing, cross_validation, neighbors\n",
    "import pandas as pd\n",
    "accuracies = []\n",
    "for i in range(25):\n",
    "    df = pd.read_csv('breas-cancer-wisconsin.data.txt')\n",
    "    df.replace('?', -99999, inplace=True)\n",
    "    df.drop(['id',1,inplace=True])\n",
    "\n",
    "    X = np.array(df.drop(['class'],1))\n",
    "    y = np.array(df['class'])\n",
    "\n",
    "    X_train, X_test, y_train, y_test = cross_validation.train_test_split(X,y,test_size = 0.2)\n",
    "\n",
    "    clf = neighbors.KNeighborsClassifier()\n",
    "    clf.fit = clf.score(X_test,y_test)\n",
    "\n",
    "    accuracy = clf.score(X_test,y_test)\n",
    "    #print(accuracy)\n",
    "\n",
    "    example_measures = np.array([4,2,1,1,1,2,3,2,1])\n",
    "    example_measures = example_measures.reshape(len(example_measures),-1)\n",
    "\n",
    "    prediction = clf.predict(example_measures)\n",
    "    #print(prediction)\n",
    "    accuracies.append(accuracy)\n",
    "print(sum(accuracies)/len(accuracies))"
   ]
  },
  {
   "cell_type": "code",
   "execution_count": 11,
   "metadata": {},
   "outputs": [
    {
     "name": "stdout",
     "output_type": "stream",
     "text": [
      "k\n"
     ]
    },
    {
     "data": {
      "image/png": "[encoded data removed]",
      "text/plain": [
       "<Figure size 432x288 with 1 Axes>"
      ]
     },
     "metadata": {},
     "output_type": "display_data"
    }
   ],
   "source": [
    "import numpy as np\n",
    "from math import sqrt\n",
    "import matplotlib.pyplot as plt\n",
    "import warnings\n",
    "from matplotlib import style\n",
    "from collections import Counter\n",
    "style.use('fivethirtyeight')\n",
    "\n",
    "dataset = {'k':[[1,2],[2,3],[3,1]], 'r':[[6,5],[7,7],[8,6]]}\n",
    "new_features = [4,4]\n",
    "\n",
    "def k_nearest_neighbors(data, predict, k =3):\n",
    "    if len(data) >= k:\n",
    "        warning.warn('K is set to a value less that total voting groups!')\n",
    "    #RADIUS\n",
    "    distances = []\n",
    "    for group in data:\n",
    "        for features in data[group]:\n",
    "            euclidean_distance = np.linalg.norm(np.array(features)-np.array(predict))\n",
    "            distances.append([euclidean_distance, group])\n",
    "    votes = [i[1] for i in sorted(distances)[:k]]\n",
    "    vote_result = Counter(votes).most_common(1)[0][0]\n",
    "    \n",
    "    confidence = Counter(votes).most_common(1)[0][1] / k\n",
    "    \n",
    "    return vote_result,confidence\n",
    "\n",
    "result = k_nearest_neighbors(dataset, new_features, k =3)\n",
    "#print(result)\n",
    "[[plt.scatter(ii[0],ii[1], s=100, color=i)for ii in dataset[i]] for i in dataset]\n",
    "plt.scatter(new_features[0],new_features[1], s=100,color = result)\n",
    "plt.show()\n",
    "#ADDED stuff\n",
    "import pandas as pd\n",
    "import random\n",
    "\n",
    "accuracies = []\n",
    "for i in range(25):\n",
    "\n",
    "    df = pd.read_csv(\"breas-cancer-wisconsin.data.txt\")\n",
    "    df.replace('?',-99999, inplace=True)\n",
    "    df.drop(['id'], 1, inplace=True)\n",
    "\n",
    "    full_data = df.astype(float).values.tolist()\n",
    "    #cuz sometimes values has quotes\n",
    "\n",
    "    random.shuffle(full_data)\n",
    "\n",
    "    test_size = 0.2\n",
    "    train_set = {2:[],4:[]}\n",
    "    test_set = {2:[],4:[]}\n",
    "    train_data = full_data[:-int(test_size*len(full_data))]\n",
    "    test_data = full_data[-int(test_size*len(full_data)):]\n",
    "\n",
    "    for i in train_data:\n",
    "        train_set[i[-1]].append(i[:-1])\n",
    "    for i in test_data:\n",
    "        test_set[i[-1]].append(i[:-1])\n",
    "\n",
    "    correct = 0\n",
    "    total = 0\n",
    "\n",
    "    for group in test_set:\n",
    "        for data in test_set[group]:\n",
    "            vote,confidence = k_nearest_neighbors(train_set, data, k=5)\n",
    "            if group == vote:\n",
    "                correct += 1\n",
    "            else:\n",
    "                #print(confidence)\n",
    "            total+=1\n",
    "    #print('Accuracy:',correct/total)\n",
    "    accuracies.append(correct/total)\n",
    "print(sum(accuracies)/len(accuracies))"
   ]
  },
  {
   "cell_type": "code",
   "execution_count": null,
   "metadata": {},
   "outputs": [],
   "source": []
  }
 ],
 "metadata": {
  "kernelspec": {
   "display_name": "Python 3",
   "language": "python",
   "name": "python3"
  },
  "language_info": {
   "codemirror_mode": {
    "name": "ipython",
    "version": 3
   },
   "file_extension": ".py",
   "mimetype": "text/x-python",
   "name": "python",
   "nbconvert_exporter": "python",
   "pygments_lexer": "ipython3",
   "version": "3.5.2"
  }
 },
 "nbformat": 4,
 "nbformat_minor": 2
}
